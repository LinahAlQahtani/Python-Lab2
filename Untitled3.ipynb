{
 "cells": [
  {
   "cell_type": "code",
   "execution_count": 5,
   "id": "cb277fe7",
   "metadata": {},
   "outputs": [
    {
     "name": "stdout",
     "output_type": "stream",
     "text": [
      "I recommended it, it is Good\n"
     ]
    }
   ],
   "source": [
    "movie = \"Harry Potter\"\n",
    "rating = 5\n",
    "mr = 3\n",
    "pop = 72.65\n",
    " \n",
    "if mr >= 4 and  pop > 80:\n",
    "    print (\"Highly recommended\")\n",
    "elif mr >= 3 and  pop > 70:\n",
    "           print (\"I recommended it, it is Good\")\n",
    "elif   mr <= 2 and  pop > 60:\n",
    "                 print (\"You should check it out!\") \n",
    "else:  \n",
    "     print (\" Don't watch it, it is a waste of time\")"
   ]
  },
  {
   "cell_type": "code",
   "execution_count": null,
   "id": "def114b6",
   "metadata": {},
   "outputs": [],
   "source": []
  }
 ],
 "metadata": {
  "kernelspec": {
   "display_name": "Python 3 (ipykernel)",
   "language": "python",
   "name": "python3"
  },
  "language_info": {
   "codemirror_mode": {
    "name": "ipython",
    "version": 3
   },
   "file_extension": ".py",
   "mimetype": "text/x-python",
   "name": "python",
   "nbconvert_exporter": "python",
   "pygments_lexer": "ipython3",
   "version": "3.11.3"
  }
 },
 "nbformat": 4,
 "nbformat_minor": 5
}
